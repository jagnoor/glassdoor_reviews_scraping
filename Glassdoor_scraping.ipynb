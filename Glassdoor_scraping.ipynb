{
 "cells": [
  {
   "cell_type": "code",
   "execution_count": 1,
   "id": "9fdd54f2",
   "metadata": {},
   "outputs": [],
   "source": [
    "import os\n",
    "import numpy as np\n",
    "import pandas as pd\n",
    "from selenium import webdriver\n",
    "from selenium.webdriver.chrome.service import Service\n",
    "from webdriver_manager.chrome import ChromeDriverManager\n",
    "from selenium.webdriver.chrome.options import Options\n",
    "from selenium.webdriver.common.by import By\n",
    "from bs4 import BeautifulSoup\n",
    "import requests\n",
    "import time"
   ]
  },
  {
   "cell_type": "code",
   "execution_count": 2,
   "id": "276af297",
   "metadata": {},
   "outputs": [],
   "source": [
    "#variables\n",
    "user = os.getenv('glassdoor_user')\n",
    "password = os.getenv('glassdoor_pass')"
   ]
  },
  {
   "cell_type": "code",
   "execution_count": 3,
   "id": "0848954b",
   "metadata": {},
   "outputs": [
    {
     "name": "stderr",
     "output_type": "stream",
     "text": [
      "\n",
      "\n",
      "====== WebDriver manager ======\n",
      "Current google-chrome version is 99.0.4844\n",
      "Get LATEST chromedriver version for 99.0.4844 google-chrome\n",
      "Driver [C:\\Users\\VM661TA\\.wdm\\drivers\\chromedriver\\win32\\99.0.4844.51\\chromedriver.exe] found in cache\n"
     ]
    }
   ],
   "source": [
    "options = Options()\n",
    "#options.add_argument(\"start-maximized\")\n",
    "#options.add_argument(\"--headless\")\n",
    "driver = webdriver.Chrome(service=Service(ChromeDriverManager().install()), options=options)\n",
    "driver.get(\"https://www.glassdoor.com\")"
   ]
  },
  {
   "cell_type": "code",
   "execution_count": 4,
   "id": "4a8a4936",
   "metadata": {},
   "outputs": [],
   "source": [
    "#login button xpath: //*[@id=\"SiteNav\"]/nav/div[2]/div/div/div/button\n",
    "login_button = driver.find_element(By.XPATH,'//*[@id=\"SiteNav\"]/nav/div[2]/div/div/div/button')\n",
    "login_button.click()"
   ]
  },
  {
   "cell_type": "code",
   "execution_count": 5,
   "id": "8d4b2fa2",
   "metadata": {},
   "outputs": [],
   "source": [
    "#gmail user field xpath: //*[@id=\"identifierId\"]\n",
    "gmail_user_field = driver.find_element(By.XPATH,'//*[@id=\"modalUserEmail\"]')\n",
    "gmail_user_field.send_keys(user)"
   ]
  },
  {
   "cell_type": "code",
   "execution_count": 6,
   "id": "8c6610f5",
   "metadata": {},
   "outputs": [],
   "source": [
    "#password field xpath: //*[@id=\"modalUserPassword\"]\n",
    "pass_field = driver.find_element(By.XPATH, '//*[@id=\"modalUserPassword\"]')\n",
    "pass_field.send_keys(password)"
   ]
  },
  {
   "cell_type": "code",
   "execution_count": 7,
   "id": "5af535e1",
   "metadata": {},
   "outputs": [],
   "source": [
    "#login button xpath\n",
    "login_button = driver.find_element(By.XPATH, '//*[@id=\"LoginModal\"]/div/div/div[2]/div[2]/div[2]/div/div/form/div[3]/button/span')\n",
    "login_button.click()"
   ]
  },
  {
   "cell_type": "code",
   "execution_count": 8,
   "id": "dd679c5e",
   "metadata": {},
   "outputs": [],
   "source": [
    "time.sleep(5)\n",
    "driver.get('https://www.glassdoor.com.ar/Explorar/buscar-empresas.htm')\n",
    "user_agent = {'User-agent': 'Mozilla/5.0'}"
   ]
  },
  {
   "cell_type": "code",
   "execution_count": 9,
   "id": "11d67862",
   "metadata": {
    "scrolled": false
   },
   "outputs": [],
   "source": [
    "reviews_list = []\n",
    "pages = driver.find_elements(By.CLASS_NAME, 'page')\n",
    "#I don't use 'page in pages' here because the instance of pages changes when page is refreshed\n",
    "for i in range(len(pages)):\n",
    "    pages = driver.find_elements(By.CLASS_NAME, 'page')\n",
    "    pages[i].click()\n",
    "    time.sleep(5)\n",
    "    url = driver.current_url\n",
    "    response = requests.get(url, headers = user_agent)\n",
    "    soup = BeautifulSoup(response.text, 'html.parser')\n",
    "    #make a list of all the company review links on the current page\n",
    "    links = soup.find_all('a',{'data-test':'cell-Reviews-url'})\n",
    "    link_list = ['https://www.glassdoor.com.ar/' + link['href'] for link in links]\n",
    "    for link in link_list:\n",
    "        driver.get(link)\n",
    "        tabs = driver.find_elements(By.CLASS_NAME, 'subtle')\n",
    "        for tab in tabs:\n",
    "                if tab.text == 'Evaluaciones':\n",
    "                    tab.click()\n",
    "                    #extract all positive and negative reviews from each company\n",
    "                    review_pages = driver.find_elements(By.CLASS_NAME, 'page')\n",
    "                    #for every page in the review section\n",
    "                    for j in range(len(review_pages)):\n",
    "                        time.sleep(5)\n",
    "                        review_pages = driver.find_elements(By.CLASS_NAME, 'page')\n",
    "                        driver.execute_script(\"arguments[0].click();\", review_pages[j])\n",
    "                        url = driver.current_url\n",
    "                        response = requests.get(url, headers=user_agent)\n",
    "                        soup = BeautifulSoup(response.text, 'html.parser')\n",
    "                        company_name = soup.find('title').text.split('|')[0]\n",
    "                        #rating xpath: //*[@id=\"EmpStats\"]/div/div[1]/div/div/div\n",
    "                        rating = driver.find_element(By.XPATH, '//*[@id=\"EmpStats\"]/div/div[1]/div/div/div').text\n",
    "                        all_reviews = soup.find_all('div', class_='mx-0') # later need to filter and keep only the even index of this class, the rest come blank\n",
    "                        for review in all_reviews:\n",
    "                            review_dict = {}\n",
    "                            #find the pros and cons for each review\n",
    "                            pro = review.findChild('span',{'data-test':'pros'}).text if review.findChild('span',{'data-test':'pros'}) else ''\n",
    "                            con = review.findChild('span',{'data-test':'cons'}).text if review.findChild('span',{'data-test':'cons'}) else ''\n",
    "                            review_dict['company'] = company_name\n",
    "                            review_dict['pros'] = pro\n",
    "                            review_dict['cons'] = con\n",
    "                            review_dict['rating'] = rating\n",
    "                            reviews_list.append(review_dict)\n",
    "                    break #this breaks the tab loop\n",
    "    driver.get('https://www.glassdoor.com.ar/Explorar/buscar-empresas.htm')"
   ]
  },
  {
   "cell_type": "code",
   "execution_count": 10,
   "id": "7d220215",
   "metadata": {},
   "outputs": [
    {
     "data": {
      "text/plain": [
       "3000"
      ]
     },
     "execution_count": 10,
     "metadata": {},
     "output_type": "execute_result"
    }
   ],
   "source": [
    "len(reviews_list)"
   ]
  },
  {
   "cell_type": "code",
   "execution_count": 11,
   "id": "5c5e5ad8",
   "metadata": {},
   "outputs": [],
   "source": [
    "# keep only the even indexs\n",
    "reviews_list = [review for review in reviews_list if reviews_list.index(review) % 2 == 0]"
   ]
  },
  {
   "cell_type": "code",
   "execution_count": 12,
   "id": "6994784d",
   "metadata": {},
   "outputs": [
    {
     "data": {
      "text/html": [
       "<div>\n",
       "<style scoped>\n",
       "    .dataframe tbody tr th:only-of-type {\n",
       "        vertical-align: middle;\n",
       "    }\n",
       "\n",
       "    .dataframe tbody tr th {\n",
       "        vertical-align: top;\n",
       "    }\n",
       "\n",
       "    .dataframe thead th {\n",
       "        text-align: right;\n",
       "    }\n",
       "</style>\n",
       "<table border=\"1\" class=\"dataframe\">\n",
       "  <thead>\n",
       "    <tr style=\"text-align: right;\">\n",
       "      <th></th>\n",
       "      <th>company</th>\n",
       "      <th>pros</th>\n",
       "      <th>cons</th>\n",
       "      <th>rating</th>\n",
       "    </tr>\n",
       "  </thead>\n",
       "  <tbody>\n",
       "    <tr>\n",
       "      <th>0</th>\n",
       "      <td>Evaluaciones de Accenture</td>\n",
       "      <td>Remoto\\r\\nSueldo bueno\\r\\nTe dan compu y auric...</td>\n",
       "      <td>No aumentan el sueldo muy seguido y los bonos ...</td>\n",
       "      <td>4,0</td>\n",
       "    </tr>\n",
       "    <tr>\n",
       "      <th>1</th>\n",
       "      <td>Evaluaciones de Accenture</td>\n",
       "      <td>buffet, gimansio, internet, maasjes, tarjeta a...</td>\n",
       "      <td>sueldo, competencia, computadora, oficina lejo...</td>\n",
       "      <td>4,0</td>\n",
       "    </tr>\n",
       "    <tr>\n",
       "      <th>2</th>\n",
       "      <td>Evaluaciones de Accenture</td>\n",
       "      <td>Flexibilidad laboral y capacitación continua</td>\n",
       "      <td>Las compensaciones económicas serían mejor si ...</td>\n",
       "      <td>4,0</td>\n",
       "    </tr>\n",
       "    <tr>\n",
       "      <th>3</th>\n",
       "      <td>Evaluaciones de Accenture</td>\n",
       "      <td>Cultura de trabajo y Beneficios corporativos</td>\n",
       "      <td>Salario no competitivo en el mercado</td>\n",
       "      <td>4,0</td>\n",
       "    </tr>\n",
       "    <tr>\n",
       "      <th>4</th>\n",
       "      <td>Evaluaciones de Accenture</td>\n",
       "      <td>Es un lugar con muy buen clima laboral.</td>\n",
       "      <td>Los sueldos no son competentes en referencia a...</td>\n",
       "      <td>4,0</td>\n",
       "    </tr>\n",
       "    <tr>\n",
       "      <th>...</th>\n",
       "      <td>...</td>\n",
       "      <td>...</td>\n",
       "      <td>...</td>\n",
       "      <td>...</td>\n",
       "    </tr>\n",
       "    <tr>\n",
       "      <th>1495</th>\n",
       "      <td>Evaluaciones de Cognizant Technology Solutions</td>\n",
       "      <td>balance entre vida personal y trabajo es buena</td>\n",
       "      <td>las posibilidades de promociones no son buenas</td>\n",
       "      <td>3,8</td>\n",
       "    </tr>\n",
       "    <tr>\n",
       "      <th>1496</th>\n",
       "      <td>Evaluaciones de Cognizant Technology Solutions</td>\n",
       "      <td>Tenés cobertura social, osde 210 y descuentos ...</td>\n",
       "      <td>En la empresa hay poco crecimiento si entrás p...</td>\n",
       "      <td>3,8</td>\n",
       "    </tr>\n",
       "    <tr>\n",
       "      <th>1497</th>\n",
       "      <td>Evaluaciones de Cognizant Technology Solutions</td>\n",
       "      <td>Buenos salarios, acordes al mercado, si entrás...</td>\n",
       "      <td>Sólo para cumplir con tu trabajo, te piden un ...</td>\n",
       "      <td>3,8</td>\n",
       "    </tr>\n",
       "    <tr>\n",
       "      <th>1498</th>\n",
       "      <td>Evaluaciones de Cognizant Technology Solutions</td>\n",
       "      <td>Benefícios y aprendizado, con cursos y compañe...</td>\n",
       "      <td>No hay desventajas, es un buen empleo</td>\n",
       "      <td>3,8</td>\n",
       "    </tr>\n",
       "    <tr>\n",
       "      <th>1499</th>\n",
       "      <td>Evaluaciones de Cognizant Technology Solutions</td>\n",
       "      <td>contractan juniors y estrangeros, nada mas...</td>\n",
       "      <td>todo, es una empresa mala</td>\n",
       "      <td>3,8</td>\n",
       "    </tr>\n",
       "  </tbody>\n",
       "</table>\n",
       "<p>1500 rows × 4 columns</p>\n",
       "</div>"
      ],
      "text/plain": [
       "                                              company  \\\n",
       "0                          Evaluaciones de Accenture    \n",
       "1                          Evaluaciones de Accenture    \n",
       "2                          Evaluaciones de Accenture    \n",
       "3                          Evaluaciones de Accenture    \n",
       "4                          Evaluaciones de Accenture    \n",
       "...                                               ...   \n",
       "1495  Evaluaciones de Cognizant Technology Solutions    \n",
       "1496  Evaluaciones de Cognizant Technology Solutions    \n",
       "1497  Evaluaciones de Cognizant Technology Solutions    \n",
       "1498  Evaluaciones de Cognizant Technology Solutions    \n",
       "1499  Evaluaciones de Cognizant Technology Solutions    \n",
       "\n",
       "                                                   pros  \\\n",
       "0     Remoto\\r\\nSueldo bueno\\r\\nTe dan compu y auric...   \n",
       "1     buffet, gimansio, internet, maasjes, tarjeta a...   \n",
       "2          Flexibilidad laboral y capacitación continua   \n",
       "3          Cultura de trabajo y Beneficios corporativos   \n",
       "4               Es un lugar con muy buen clima laboral.   \n",
       "...                                                 ...   \n",
       "1495     balance entre vida personal y trabajo es buena   \n",
       "1496  Tenés cobertura social, osde 210 y descuentos ...   \n",
       "1497  Buenos salarios, acordes al mercado, si entrás...   \n",
       "1498  Benefícios y aprendizado, con cursos y compañe...   \n",
       "1499      contractan juniors y estrangeros, nada mas...   \n",
       "\n",
       "                                                   cons rating  \n",
       "0     No aumentan el sueldo muy seguido y los bonos ...    4,0  \n",
       "1     sueldo, competencia, computadora, oficina lejo...    4,0  \n",
       "2     Las compensaciones económicas serían mejor si ...    4,0  \n",
       "3                  Salario no competitivo en el mercado    4,0  \n",
       "4     Los sueldos no son competentes en referencia a...    4,0  \n",
       "...                                                 ...    ...  \n",
       "1495     las posibilidades de promociones no son buenas    3,8  \n",
       "1496  En la empresa hay poco crecimiento si entrás p...    3,8  \n",
       "1497  Sólo para cumplir con tu trabajo, te piden un ...    3,8  \n",
       "1498              No hay desventajas, es un buen empleo    3,8  \n",
       "1499                          todo, es una empresa mala    3,8  \n",
       "\n",
       "[1500 rows x 4 columns]"
      ]
     },
     "execution_count": 12,
     "metadata": {},
     "output_type": "execute_result"
    }
   ],
   "source": [
    "df = pd.DataFrame(reviews_list)\n",
    "df"
   ]
  }
 ],
 "metadata": {
  "kernelspec": {
   "display_name": "Python 3 (ipykernel)",
   "language": "python",
   "name": "python3"
  },
  "language_info": {
   "codemirror_mode": {
    "name": "ipython",
    "version": 3
   },
   "file_extension": ".py",
   "mimetype": "text/x-python",
   "name": "python",
   "nbconvert_exporter": "python",
   "pygments_lexer": "ipython3",
   "version": "3.9.7"
  }
 },
 "nbformat": 4,
 "nbformat_minor": 5
}
